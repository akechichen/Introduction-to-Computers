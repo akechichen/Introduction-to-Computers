{
  "nbformat": 4,
  "nbformat_minor": 0,
  "metadata": {
    "colab": {
      "name": "final test.ipynb",
      "provenance": [],
      "authorship_tag": "ABX9TyOFfcM2SDyMA8CfV3fH78kb",
      "include_colab_link": true
    },
    "kernelspec": {
      "name": "python3",
      "display_name": "Python 3"
    },
    "language_info": {
      "name": "python"
    }
  },
  "cells": [
    {
      "cell_type": "markdown",
      "metadata": {
        "id": "view-in-github",
        "colab_type": "text"
      },
      "source": [
        "<a href=\"https://colab.research.google.com/github/akechichen/Introduction-to-Computers/blob/main/final_test.ipynb\" target=\"_parent\"><img src=\"https://colab.research.google.com/assets/colab-badge.svg\" alt=\"Open In Colab\"/></a>"
      ]
    },
    {
      "cell_type": "code",
      "execution_count": null,
      "metadata": {
        "id": "O4Azx1qm-4HS",
        "outputId": "8cf2e41c-136f-41ef-cb92-436187b10102",
        "colab": {
          "base_uri": "https://localhost:8080/"
        }
      },
      "outputs": [
        {
          "output_type": "stream",
          "name": "stdout",
          "text": [
            "hi\n"
          ]
        }
      ],
      "source": [
        "print('hi')"
      ]
    },
    {
      "cell_type": "code",
      "source": [
        "test1 = int(input('請輸入國文成績：'))\n",
        "test2 = int(input('請輸入英文成績：'))\n",
        "test3 = int(input('請輸入數學成績：'))\n",
        "print('你的成績總分為：',test1+test2+test3, sep = '\\n')"
      ],
      "metadata": {
        "id": "veaaHkdD-6pi",
        "colab": {
          "base_uri": "https://localhost:8080/"
        },
        "outputId": "9f31eca3-84e6-4cd1-d82c-2b008031e987"
      },
      "execution_count": null,
      "outputs": [
        {
          "output_type": "stream",
          "name": "stdout",
          "text": [
            "請輸入國文成績：50\n",
            "請輸入英文成績：60\n",
            "請輸入數學成績：70\n",
            "你的成績總分為：\n",
            "180\n"
          ]
        }
      ]
    },
    {
      "cell_type": "code",
      "source": [
        "上底 = int(input('請輸入梯形上底長度：'))\n",
        "下底 = int(input('請輸入梯形下底長度：'))\n",
        "高 = int(input('請輸入梯形的高度：'))\n",
        "面積 = (上底+下底)*高/2\n",
        "print('上底長度為：%d,下底長度為：%d,高度為：%d,梯形面積為：%0.1f' %(上底,下底,高,面積))"
      ],
      "metadata": {
        "colab": {
          "base_uri": "https://localhost:8080/"
        },
        "id": "GGFH7-Gd2XhS",
        "outputId": "022e18ae-9890-426f-e261-7297fe57506c"
      },
      "execution_count": null,
      "outputs": [
        {
          "output_type": "stream",
          "name": "stdout",
          "text": [
            "請輸入梯形上底長度：3\n",
            "請輸入梯形下底長度：4\n",
            "請輸入梯形的高度：3\n",
            "上底長度為：3,下底長度為：4,高度為：3,梯形面積為：10.5\n"
          ]
        }
      ]
    },
    {
      "cell_type": "code",
      "source": [
        "身高 = int(input('請輸入您的身高：'))\n",
        "體重 = int(input('請輸入您的體重：'))\n",
        "BMI = 體重 / (身高/100)**2\n",
        "print('身高%d公分,體重%d公斤,BMI值為%0.2f' %(身高,體重,BMI))"
      ],
      "metadata": {
        "colab": {
          "base_uri": "https://localhost:8080/"
        },
        "id": "4o12-ta24UvZ",
        "outputId": "2992cdb8-6385-4c82-b571-7225d574f058"
      },
      "execution_count": null,
      "outputs": [
        {
          "output_type": "stream",
          "name": "stdout",
          "text": [
            "請輸入您的身高：180\n",
            "請輸入您的體重：80\n",
            "身高180公分,體重80公斤,BMI值為24.69\n"
          ]
        }
      ]
    },
    {
      "cell_type": "code",
      "source": [
        "本金 = int(input('請輸入本金存款金額：'))\n",
        "years = 1.02**6\n",
        "本金*=years\n",
        "print('6年後的存款為：',本金)"
      ],
      "metadata": {
        "colab": {
          "base_uri": "https://localhost:8080/"
        },
        "id": "m_gOos4C7zc2",
        "outputId": "a63e9822-36c2-4f14-84bb-fdabdd865e7a"
      },
      "execution_count": null,
      "outputs": [
        {
          "output_type": "stream",
          "name": "stdout",
          "text": [
            "請輸入本金存款金額：10000\n",
            "6年後的存款為： 11261.62419264\n"
          ]
        }
      ]
    },
    {
      "cell_type": "code",
      "source": [
        "a = int(input('請輸入密碼：'))\n",
        "if a == 1234:\n",
        "    print('歡迎光臨！')\n",
        "else:\n",
        "    print('密碼錯誤！')"
      ],
      "metadata": {
        "colab": {
          "base_uri": "https://localhost:8080/"
        },
        "id": "3RrubeJ7Eqv9",
        "outputId": "41cc9990-0817-403e-a116-284b1bccb1c8"
      },
      "execution_count": null,
      "outputs": [
        {
          "output_type": "stream",
          "name": "stdout",
          "text": [
            "請輸入密碼：1343\n",
            "密碼錯誤！\n"
          ]
        }
      ]
    },
    {
      "cell_type": "code",
      "source": [
        "b = int(input('請輸入正整數：'))\n",
        "if b%2 == 0:\n",
        "    print(b,'為偶數！')\n",
        "else:\n",
        "    print(b,'為奇數！')"
      ],
      "metadata": {
        "colab": {
          "base_uri": "https://localhost:8080/"
        },
        "id": "bj1h96PiGUnh",
        "outputId": "607a22e7-516d-4451-df14-f63852a3f8a4"
      },
      "execution_count": null,
      "outputs": [
        {
          "output_type": "stream",
          "name": "stdout",
          "text": [
            "請輸入正整數：65\n",
            "65 為奇數！\n"
          ]
        }
      ]
    },
    {
      "cell_type": "code",
      "source": [
        "s = int(input('請輸入一個正整數：'))\n",
        "sum = 0\n",
        "for i in range(1,s+1):\n",
        "    sum = sum+i\n",
        "    print('1到',s,'的整數和為',sum)"
      ],
      "metadata": {
        "colab": {
          "base_uri": "https://localhost:8080/"
        },
        "id": "94rkHi7AHeN1",
        "outputId": "075d08a9-2d8d-4c7d-bff0-086e560407ab"
      },
      "execution_count": null,
      "outputs": [
        {
          "output_type": "stream",
          "name": "stdout",
          "text": [
            "請輸入一個正整數：10\n",
            "1到 10 的整數和為 1\n",
            "1到 10 的整數和為 3\n",
            "1到 10 的整數和為 6\n",
            "1到 10 的整數和為 10\n",
            "1到 10 的整數和為 15\n",
            "1到 10 的整數和為 21\n",
            "1到 10 的整數和為 28\n",
            "1到 10 的整數和為 36\n",
            "1到 10 的整數和為 45\n",
            "1到 10 的整數和為 55\n"
          ]
        }
      ]
    },
    {
      "cell_type": "code",
      "source": [
        "s = int(input('請輸入一個正整數：'))\n",
        "sum = 0\n",
        "for i in range(1,s+1):\n",
        "    sum = sum+i\n",
        "print('1到',s,'的整數和為',sum)"
      ],
      "metadata": {
        "colab": {
          "base_uri": "https://localhost:8080/"
        },
        "id": "AknIPxfXLlpu",
        "outputId": "c8b48d60-f6b6-493c-89b6-eef525d7fadc"
      },
      "execution_count": null,
      "outputs": [
        {
          "output_type": "stream",
          "name": "stdout",
          "text": [
            "請輸入一個正整數：50\n",
            "1到 50 的整數和為 1275\n"
          ]
        }
      ]
    },
    {
      "cell_type": "code",
      "source": [
        "print('123')"
      ],
      "metadata": {
        "id": "I5qxXzBHLs0y",
        "colab": {
          "base_uri": "https://localhost:8080/"
        },
        "outputId": "2728cf35-49d9-49c7-b7f4-07ef91f49c75"
      },
      "execution_count": 1,
      "outputs": [
        {
          "output_type": "stream",
          "name": "stdout",
          "text": [
            "123\n"
          ]
        }
      ]
    },
    {
      "cell_type": "code",
      "source": [
        ""
      ],
      "metadata": {
        "id": "SpMq2QWXCPyY"
      },
      "execution_count": null,
      "outputs": []
    }
  ]
}