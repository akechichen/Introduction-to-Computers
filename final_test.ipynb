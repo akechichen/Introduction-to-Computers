{
  "nbformat": 4,
  "nbformat_minor": 0,
  "metadata": {
    "colab": {
      "name": "final test.ipynb",
      "provenance": [],
      "authorship_tag": "ABX9TyNzRWwwbB2bfo3xXLuHhe0S",
      "include_colab_link": true
    },
    "kernelspec": {
      "name": "python3",
      "display_name": "Python 3"
    },
    "language_info": {
      "name": "python"
    }
  },
  "cells": [
    {
      "cell_type": "markdown",
      "metadata": {
        "id": "view-in-github",
        "colab_type": "text"
      },
      "source": [
        "<a href=\"https://colab.research.google.com/github/akechichen/Introduction-to-Computers/blob/main/final_test.ipynb\" target=\"_parent\"><img src=\"https://colab.research.google.com/assets/colab-badge.svg\" alt=\"Open In Colab\"/></a>"
      ]
    },
    {
      "cell_type": "code",
      "source": [
        "test1 = int(input('請輸入國文成績：'))\n",
        "test2 = int(input('請輸入英文成績：'))\n",
        "test3 = int(input('請輸入數學成績：'))\n",
        "print('你的成績總分為：',test1+test2+test3, sep = '\\n')"
      ],
      "metadata": {
        "id": "veaaHkdD-6pi",
        "colab": {
          "base_uri": "https://localhost:8080/"
        },
        "outputId": "9f31eca3-84e6-4cd1-d82c-2b008031e987"
      },
      "execution_count": null,
      "outputs": [
        {
          "output_type": "stream",
          "name": "stdout",
          "text": [
            "請輸入國文成績：50\n",
            "請輸入英文成績：60\n",
            "請輸入數學成績：70\n",
            "你的成績總分為：\n",
            "180\n"
          ]
        }
      ]
    },
    {
      "cell_type": "code",
      "source": [
        "上底 = int(input('請輸入梯形上底長度：'))\n",
        "下底 = int(input('請輸入梯形下底長度：'))\n",
        "高 = int(input('請輸入梯形的高度：'))\n",
        "面積 = (上底+下底)*高/2\n",
        "print('上底長度為：%d,下底長度為：%d,高度為：%d,梯形面積為：%0.1f' %(上底,下底,高,面積))"
      ],
      "metadata": {
        "colab": {
          "base_uri": "https://localhost:8080/"
        },
        "id": "GGFH7-Gd2XhS",
        "outputId": "022e18ae-9890-426f-e261-7297fe57506c"
      },
      "execution_count": null,
      "outputs": [
        {
          "output_type": "stream",
          "name": "stdout",
          "text": [
            "請輸入梯形上底長度：3\n",
            "請輸入梯形下底長度：4\n",
            "請輸入梯形的高度：3\n",
            "上底長度為：3,下底長度為：4,高度為：3,梯形面積為：10.5\n"
          ]
        }
      ]
    },
    {
      "cell_type": "code",
      "source": [
        "身高 = int(input('請輸入您的身高：'))\n",
        "體重 = int(input('請輸入您的體重：'))\n",
        "BMI = 體重 / (身高/100)**2\n",
        "print('身高%d公分,體重%d公斤,BMI值為%0.2f' %(身高,體重,BMI))"
      ],
      "metadata": {
        "colab": {
          "base_uri": "https://localhost:8080/"
        },
        "id": "4o12-ta24UvZ",
        "outputId": "2992cdb8-6385-4c82-b571-7225d574f058"
      },
      "execution_count": null,
      "outputs": [
        {
          "output_type": "stream",
          "name": "stdout",
          "text": [
            "請輸入您的身高：180\n",
            "請輸入您的體重：80\n",
            "身高180公分,體重80公斤,BMI值為24.69\n"
          ]
        }
      ]
    },
    {
      "cell_type": "code",
      "source": [
        "本金 = int(input('請輸入本金存款金額：'))\n",
        "years = 1.02**6\n",
        "本金*=years\n",
        "print('6年後的存款為：',本金)"
      ],
      "metadata": {
        "colab": {
          "base_uri": "https://localhost:8080/"
        },
        "id": "m_gOos4C7zc2",
        "outputId": "a63e9822-36c2-4f14-84bb-fdabdd865e7a"
      },
      "execution_count": null,
      "outputs": [
        {
          "output_type": "stream",
          "name": "stdout",
          "text": [
            "請輸入本金存款金額：10000\n",
            "6年後的存款為： 11261.62419264\n"
          ]
        }
      ]
    },
    {
      "cell_type": "code",
      "source": [
        "a = int(input('請輸入密碼：'))\n",
        "if a == 1234:\n",
        "    print('歡迎光臨！')\n",
        "else:\n",
        "    print('密碼錯誤！')"
      ],
      "metadata": {
        "colab": {
          "base_uri": "https://localhost:8080/"
        },
        "id": "3RrubeJ7Eqv9",
        "outputId": "41cc9990-0817-403e-a116-284b1bccb1c8"
      },
      "execution_count": null,
      "outputs": [
        {
          "output_type": "stream",
          "name": "stdout",
          "text": [
            "請輸入密碼：1343\n",
            "密碼錯誤！\n"
          ]
        }
      ]
    },
    {
      "cell_type": "code",
      "source": [
        "b = int(input('請輸入正整數：'))\n",
        "if b%2 == 0:\n",
        "    print(b,'為偶數！')\n",
        "else:\n",
        "    print(b,'為奇數！')"
      ],
      "metadata": {
        "colab": {
          "base_uri": "https://localhost:8080/"
        },
        "id": "bj1h96PiGUnh",
        "outputId": "607a22e7-516d-4451-df14-f63852a3f8a4"
      },
      "execution_count": null,
      "outputs": [
        {
          "output_type": "stream",
          "name": "stdout",
          "text": [
            "請輸入正整數：65\n",
            "65 為奇數！\n"
          ]
        }
      ]
    },
    {
      "cell_type": "code",
      "source": [
        "s = int(input('請輸入一個正整數：'))\n",
        "sum = 0\n",
        "for i in range(1,s+1):\n",
        "    sum = sum+i\n",
        "    print('1到',s,'的整數和為',sum)"
      ],
      "metadata": {
        "colab": {
          "base_uri": "https://localhost:8080/"
        },
        "id": "94rkHi7AHeN1",
        "outputId": "075d08a9-2d8d-4c7d-bff0-086e560407ab"
      },
      "execution_count": null,
      "outputs": [
        {
          "output_type": "stream",
          "name": "stdout",
          "text": [
            "請輸入一個正整數：10\n",
            "1到 10 的整數和為 1\n",
            "1到 10 的整數和為 3\n",
            "1到 10 的整數和為 6\n",
            "1到 10 的整數和為 10\n",
            "1到 10 的整數和為 15\n",
            "1到 10 的整數和為 21\n",
            "1到 10 的整數和為 28\n",
            "1到 10 的整數和為 36\n",
            "1到 10 的整數和為 45\n",
            "1到 10 的整數和為 55\n"
          ]
        }
      ]
    },
    {
      "cell_type": "code",
      "source": [
        "s = int(input('請輸入一個正整數：'))\n",
        "sum = 0\n",
        "for i in range(1,s+1):\n",
        "    sum = sum+i\n",
        "print('1到',s,'的整數和為',sum)"
      ],
      "metadata": {
        "colab": {
          "base_uri": "https://localhost:8080/"
        },
        "id": "AknIPxfXLlpu",
        "outputId": "030c3c9b-62b6-4191-afc0-72658d5e9d52"
      },
      "execution_count": null,
      "outputs": [
        {
          "output_type": "stream",
          "name": "stdout",
          "text": [
            "請輸入一個正整數：50\n",
            "1到 50 的整數和為 1275\n"
          ]
        }
      ]
    },
    {
      "cell_type": "code",
      "source": [
        "a = int(input('請輸入一個正整數：'))\n",
        "sum = 0\n",
        "for i in range(1,a+1):\n",
        "    sum=sum+i\n",
        "    print('1到',a,'的整數和為：',sum)"
      ],
      "metadata": {
        "id": "I5qxXzBHLs0y",
        "colab": {
          "base_uri": "https://localhost:8080/"
        },
        "outputId": "2a1cac3b-e400-4ece-d70c-9f895a0c5e1c"
      },
      "execution_count": null,
      "outputs": [
        {
          "output_type": "stream",
          "name": "stdout",
          "text": [
            "請輸入一個正整數：10\n",
            "1到 10 的整數和為： 1\n",
            "1到 10 的整數和為： 3\n",
            "1到 10 的整數和為： 6\n",
            "1到 10 的整數和為： 10\n",
            "1到 10 的整數和為： 15\n",
            "1到 10 的整數和為： 21\n",
            "1到 10 的整數和為： 28\n",
            "1到 10 的整數和為： 36\n",
            "1到 10 的整數和為： 45\n",
            "1到 10 的整數和為： 55\n"
          ]
        }
      ]
    },
    {
      "cell_type": "code",
      "source": [
        "for i in range(1,6):\n",
        "    print(i)\n",
        "    for k in range(1,3):\n",
        "        p = i*k\n",
        "        print(i,'*',k,'=',p)"
      ],
      "metadata": {
        "id": "SpMq2QWXCPyY",
        "colab": {
          "base_uri": "https://localhost:8080/"
        },
        "outputId": "b8ac2c40-bc02-491e-e544-cc8b3e32eb7a"
      },
      "execution_count": null,
      "outputs": [
        {
          "output_type": "stream",
          "name": "stdout",
          "text": [
            "1\n",
            "1 * 1 = 1\n",
            "1 * 2 = 2\n",
            "2\n",
            "2 * 1 = 2\n",
            "2 * 2 = 4\n",
            "3\n",
            "3 * 1 = 3\n",
            "3 * 2 = 6\n",
            "4\n",
            "4 * 1 = 4\n",
            "4 * 2 = 8\n",
            "5\n",
            "5 * 1 = 5\n",
            "5 * 2 = 10\n"
          ]
        }
      ]
    },
    {
      "cell_type": "code",
      "source": [
        "count = 0\n",
        "for string in ('測試看看！'):\n",
        "    count += 1\n",
        "    if string == '看':\n",
        "        break\n",
        "    print(string)\n",
        "print('迴圈結束')\n",
        "print('迴圈執行了%d次' %(count))"
      ],
      "metadata": {
        "colab": {
          "base_uri": "https://localhost:8080/"
        },
        "id": "pEElfhxezoj4",
        "outputId": "f77ef1c2-e598-4c52-e749-8bac144f2e11"
      },
      "execution_count": null,
      "outputs": [
        {
          "output_type": "stream",
          "name": "stdout",
          "text": [
            "測\n",
            "試\n",
            "迴圈結束\n",
            "迴圈執行了3次\n"
          ]
        }
      ]
    },
    {
      "cell_type": "code",
      "source": [
        "for i in range(2,10):\n",
        "    for j in range(1,10):\n",
        "        k = i*j\n",
        "        print('%d*%d=%2d' %(i,j,k),end = ' ')\n",
        "    print()"
      ],
      "metadata": {
        "colab": {
          "base_uri": "https://localhost:8080/"
        },
        "id": "-fQasv8i6YlD",
        "outputId": "d7b89664-78f1-4b61-ccc7-162c50b1058f"
      },
      "execution_count": null,
      "outputs": [
        {
          "output_type": "stream",
          "name": "stdout",
          "text": [
            "2*1= 2 2*2= 4 2*3= 6 2*4= 8 2*5=10 2*6=12 2*7=14 2*8=16 2*9=18 \n",
            "3*1= 3 3*2= 6 3*3= 9 3*4=12 3*5=15 3*6=18 3*7=21 3*8=24 3*9=27 \n",
            "4*1= 4 4*2= 8 4*3=12 4*4=16 4*5=20 4*6=24 4*7=28 4*8=32 4*9=36 \n",
            "5*1= 5 5*2=10 5*3=15 5*4=20 5*5=25 5*6=30 5*7=35 5*8=40 5*9=45 \n",
            "6*1= 6 6*2=12 6*3=18 6*4=24 6*5=30 6*6=36 6*7=42 6*8=48 6*9=54 \n",
            "7*1= 7 7*2=14 7*3=21 7*4=28 7*5=35 7*6=42 7*7=49 7*8=56 7*9=63 \n",
            "8*1= 8 8*2=16 8*3=24 8*4=32 8*5=40 8*6=48 8*7=56 8*8=64 8*9=72 \n",
            "9*1= 9 9*2=18 9*3=27 9*4=36 9*5=45 9*6=54 9*7=63 9*8=72 9*9=81 \n"
          ]
        }
      ]
    },
    {
      "cell_type": "code",
      "source": [
        "a = int(input('請輸入a的值：'))\n",
        "b = int(input('請輸入b的值：'))\n",
        "for i in range(1,(a*b)+1):\n",
        "    if i%a == 0 and i%b == 0:\n",
        "        break\n",
        "print(a,'和',b,'的最小公倍數=',i)"
      ],
      "metadata": {
        "colab": {
          "base_uri": "https://localhost:8080/"
        },
        "id": "5vSSsfHR7Nze",
        "outputId": "2119755f-71c8-429d-d033-f4cdbf8658f0"
      },
      "execution_count": null,
      "outputs": [
        {
          "output_type": "stream",
          "name": "stdout",
          "text": [
            "請輸入a的值：4\n",
            "請輸入b的值：6\n",
            "4 和 6 的最小公倍數= 12\n"
          ]
        }
      ]
    },
    {
      "cell_type": "code",
      "source": [
        "a = int(input('請輸入正整數：'))\n",
        "for i in range(1,a+1):\n",
        "    if i%5 == 0:\n",
        "        continue\n",
        "    print(i,end = ' ')"
      ],
      "metadata": {
        "colab": {
          "base_uri": "https://localhost:8080/"
        },
        "id": "jBiUiZEy9ikR",
        "outputId": "77c65708-5b7c-4f61-b088-19110a9d0075"
      },
      "execution_count": null,
      "outputs": [
        {
          "output_type": "stream",
          "name": "stdout",
          "text": [
            "請輸入正整數：12\n",
            "1 2 3 4 6 7 8 9 11 12 "
          ]
        }
      ]
    },
    {
      "cell_type": "code",
      "source": [
        "total = a = 1\n",
        "n = int(input('請輸入正整數：'))\n",
        "while a<=n:\n",
        "    total *= a\n",
        "    a += 1\n",
        "print('%d!=%d' %(n,total))"
      ],
      "metadata": {
        "colab": {
          "base_uri": "https://localhost:8080/"
        },
        "id": "yyxtzu4jEYpr",
        "outputId": "8f1dadad-0eab-4fa5-d5d2-3aca528cebd5"
      },
      "execution_count": null,
      "outputs": [
        {
          "output_type": "stream",
          "name": "stdout",
          "text": [
            "請輸入正整數：5\n",
            "5!=120\n"
          ]
        }
      ]
    },
    {
      "cell_type": "code",
      "source": [
        "total = a = 0\n",
        "while a<50:\n",
        "    a+=2\n",
        "    total += a\n",
        "print('0~50的偶數和結果是',total)"
      ],
      "metadata": {
        "colab": {
          "base_uri": "https://localhost:8080/"
        },
        "id": "LfhI2awrUakK",
        "outputId": "f69f44e1-2ee8-461e-d497-184f082d2350"
      },
      "execution_count": null,
      "outputs": [
        {
          "output_type": "stream",
          "name": "stdout",
          "text": [
            "0~50的偶數和結果是 650\n"
          ]
        }
      ]
    },
    {
      "cell_type": "code",
      "source": [
        "total = a = 1\n",
        "while a+1<50:\n",
        "    a+=2\n",
        "    total += a\n",
        "print('0~50的奇數和結果是',total)"
      ],
      "metadata": {
        "colab": {
          "base_uri": "https://localhost:8080/"
        },
        "id": "Wr98rWqQXmFK",
        "outputId": "e6015b8a-1aaf-4510-f260-4aa12d78b100"
      },
      "execution_count": null,
      "outputs": [
        {
          "output_type": "stream",
          "name": "stdout",
          "text": [
            "0~50的奇數和結果是 625\n"
          ]
        }
      ]
    },
    {
      "cell_type": "code",
      "source": [
        "n = int(input('請輸入正整數：'))\n",
        "for i in range(n,0,-1):\n",
        "    for j in range(i,0,-1):\n",
        "        print('*',end = ' ')\n",
        "    print()"
      ],
      "metadata": {
        "colab": {
          "base_uri": "https://localhost:8080/"
        },
        "id": "UHXAhjZyX19U",
        "outputId": "60319b65-7abc-45ba-ea56-b04f167b32ec"
      },
      "execution_count": null,
      "outputs": [
        {
          "output_type": "stream",
          "name": "stdout",
          "text": [
            "請輸入正整數：7\n",
            "* * * * * * * \n",
            "* * * * * * \n",
            "* * * * * \n",
            "* * * * \n",
            "* * * \n",
            "* * \n",
            "* \n"
          ]
        }
      ]
    },
    {
      "cell_type": "code",
      "source": [
        "n = 0\n",
        "for i in range(1,101):\n",
        "    if i%3==0 or i%7==0:\n",
        "        n+=i\n",
        "print('數值 1~100 中,所有是 3 或 7 倍數的數之總和 =',n)"
      ],
      "metadata": {
        "colab": {
          "base_uri": "https://localhost:8080/"
        },
        "id": "GMUHWun4ZAuA",
        "outputId": "1bb49d78-0a87-4ff2-ab2c-09ab0b6e47b6"
      },
      "execution_count": null,
      "outputs": [
        {
          "output_type": "stream",
          "name": "stdout",
          "text": [
            "數值 1~100 中,所有是 3 或 7 倍數的數之總和 = 2208\n"
          ]
        }
      ]
    },
    {
      "cell_type": "code",
      "source": [
        "a = int(input('請輸入正整數：'))\n",
        "j = 0\n",
        "print(a,'的因數有',end = '')\n",
        "for i in range(1,a+1):\n",
        "    if a%i == 0:\n",
        "        j+=1\n",
        "        print(i,end = (' '))\n",
        "if j == 2:\n",
        "    print()\n",
        "    print(a,'是質數')\n",
        "else:\n",
        "    print()\n",
        "    print(a,'不是質數')"
      ],
      "metadata": {
        "colab": {
          "base_uri": "https://localhost:8080/"
        },
        "id": "omKrI022alhm",
        "outputId": "3c205231-4457-4423-cf66-2ee5d2e55256"
      },
      "execution_count": null,
      "outputs": [
        {
          "output_type": "stream",
          "name": "stdout",
          "text": [
            "請輸入正整數：73\n",
            "73 的因數有1 73 \n",
            "73 是質數\n"
          ]
        }
      ]
    },
    {
      "cell_type": "code",
      "source": [
        "print('123')"
      ],
      "metadata": {
        "id": "-diayiZybfrK",
        "colab": {
          "base_uri": "https://localhost:8080/"
        },
        "outputId": "706d39f0-f7c5-4e3e-d168-d1cb74d82533"
      },
      "execution_count": 1,
      "outputs": [
        {
          "output_type": "stream",
          "name": "stdout",
          "text": [
            "123\n"
          ]
        }
      ]
    },
    {
      "cell_type": "code",
      "source": [
        ""
      ],
      "metadata": {
        "id": "b71XimocS5Um"
      },
      "execution_count": null,
      "outputs": []
    }
  ]
}