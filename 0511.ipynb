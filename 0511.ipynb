{
  "nbformat": 4,
  "nbformat_minor": 0,
  "metadata": {
    "colab": {
      "name": "0511.ipynb",
      "provenance": [],
      "authorship_tag": "ABX9TyPvYNEBhNJAlFzv74Y0wg7K",
      "include_colab_link": true
    },
    "kernelspec": {
      "name": "python3",
      "display_name": "Python 3"
    },
    "language_info": {
      "name": "python"
    }
  },
  "cells": [
    {
      "cell_type": "markdown",
      "metadata": {
        "id": "view-in-github",
        "colab_type": "text"
      },
      "source": [
        "<a href=\"https://colab.research.google.com/github/akechichen/Introduction-to-Computers/blob/main/0511.ipynb\" target=\"_parent\"><img src=\"https://colab.research.google.com/assets/colab-badge.svg\" alt=\"Open In Colab\"/></a>"
      ]
    },
    {
      "cell_type": "code",
      "execution_count": 1,
      "metadata": {
        "colab": {
          "base_uri": "https://localhost:8080/"
        },
        "id": "_nZpY9t1lpN5",
        "outputId": "b46bd7a3-6ab1-4fee-f545-50869e4fade9"
      },
      "outputs": [
        {
          "output_type": "stream",
          "name": "stdout",
          "text": [
            "hi\n"
          ]
        }
      ],
      "source": [
        "print('hi')"
      ]
    },
    {
      "cell_type": "code",
      "source": [
        "temp = float(input('輸入你的體溫'))\n",
        "if temp >= 37.5:\n",
        "    print('體溫過高')\n",
        "elif temp >= 37 and temp < 37.4:\n",
        "    print('體溫略高')\n",
        "elif temp >= 34 and temp < 36.9:\n",
        "    print('體溫正常')\n",
        "else:\n",
        "    print('體溫異常，請重新量測！')"
      ],
      "metadata": {
        "colab": {
          "base_uri": "https://localhost:8080/"
        },
        "id": "5twwoNjxoWvE",
        "outputId": "2561b500-b736-4055-8c59-7d7dc70253c1"
      },
      "execution_count": 3,
      "outputs": [
        {
          "output_type": "stream",
          "name": "stdout",
          "text": [
            "輸入你的體溫37.6\n",
            "體溫過高\n"
          ]
        }
      ]
    },
    {
      "cell_type": "code",
      "source": [
        "money = int(input('請輸入購物金額：'))\n",
        "if(money >= 10000):\n",
        "    if(money >= 100000):\n",
        "      print('八折',money * 0.8,end = '元\\n')\n",
        "    elif(money >= 50000):\n",
        "      print('八五折',money * 0.85,end = '元\\n')\n",
        "    elif(money >= 30000):\n",
        "      print('八五折',money * 0.9,end = '元\\n')\n",
        "    else:\n",
        "      print('八五折',money * 0.95,end = '元\\n')\n",
        "else:\n",
        "    print('沒打折',money, end = '元\\n')"
      ],
      "metadata": {
        "colab": {
          "base_uri": "https://localhost:8080/"
        },
        "id": "23FCfehElwsD",
        "outputId": "363df56b-8067-45d9-aad8-099448e11fce"
      },
      "execution_count": 4,
      "outputs": [
        {
          "output_type": "stream",
          "name": "stdout",
          "text": [
            "請輸入購物金額：50000\n",
            "八五折 42500.0元\n"
          ]
        }
      ]
    },
    {
      "cell_type": "code",
      "source": [
        "score = float(input('請輸入成績'))\n",
        "if score >= 90:\n",
        "    print('A')\n",
        "elif score >= 80 and score < 89:\n",
        "    print('B')\n",
        "elif score >= 70 and score < 79:\n",
        "    print('C')\n",
        "elif score >= 60 and score < 69:\n",
        "    print('D')\n",
        "else:\n",
        "    print('E')\n",
        "score = float(input('請輸入成績'))\n",
        "if score >= 90:\n",
        "    print('A')\n",
        "elif score >= 80 and score < 89:\n",
        "    print('B')\n",
        "elif score >= 70 and score < 79:\n",
        "    print('C')\n",
        "elif score >= 60 and score < 69:\n",
        "    print('D')\n",
        "else:\n",
        "    print('E')\n",
        "score = float(input('請輸入成績'))\n",
        "if score >= 90:\n",
        "    print('A')\n",
        "elif score >= 80 and score < 89:\n",
        "    print('B')\n",
        "elif score >= 70 and score < 79:\n",
        "    print('C')\n",
        "elif score >= 60 and score < 69:\n",
        "    print('D')\n",
        "else:\n",
        "    print('E')"
      ],
      "metadata": {
        "colab": {
          "base_uri": "https://localhost:8080/"
        },
        "id": "k4xoPfPwoMf3",
        "outputId": "52dbb262-1bad-4126-f2df-5de50731c7d6"
      },
      "execution_count": 9,
      "outputs": [
        {
          "output_type": "stream",
          "name": "stdout",
          "text": [
            "請輸入成績90\n",
            "A\n",
            "請輸入成績80\n",
            "B\n",
            "請輸入成績50\n",
            "E\n"
          ]
        }
      ]
    },
    {
      "cell_type": "code",
      "source": [
        "month = int(input('請輸入月份'))\n",
        "if month >= 3 and month < 6:\n",
        "    print(month,'月是春天！',sep = '')\n",
        "elif month >= 6 and month < 9:\n",
        "    print(month,'月是夏天！',sep = '')\n",
        "elif month >= 9 and month < 12:\n",
        "    print(month,'月是秋天！',sep = '')\n",
        "elif (month == 12) or (month == 1) or (month == 2):\n",
        "    print(month,'月是冬天！',sep = '')\n",
        "else:\n",
        "    print('月份不在範圍內！')"
      ],
      "metadata": {
        "colab": {
          "base_uri": "https://localhost:8080/"
        },
        "id": "LqtlgxwJs0Xa",
        "outputId": "74ed19ff-0e5a-40ec-9bc7-9af2112189e3"
      },
      "execution_count": 10,
      "outputs": [
        {
          "output_type": "stream",
          "name": "stdout",
          "text": [
            "請輸入月份7\n",
            "7月是夏天！\n"
          ]
        }
      ]
    },
    {
      "cell_type": "code",
      "source": [
        "income = int(input('請輸入購物金額：'))\n",
        "if(income >= 2000000):\n",
        "      print('付稅金額',income * 0.3,end = '元\\n')\n",
        "elif(income >= 1000000):\n",
        "      print('付稅金額',income * 0.21,end = '元\\n')\n",
        "elif(income >= 600000):\n",
        "      print('付稅金額',income * 0.13,end = '元\\n')\n",
        "elif(income >= 300000):\n",
        "      print('付稅金額',income * 0.06,end = '元\\n')\n",
        "else:\n",
        "    print('付稅金額',income * 0, end = '元\\n')\n",
        "income = int(input('請輸入購物金額：'))\n",
        "if(income >= 2000000):\n",
        "      print('付稅金額',income * 0.3,end = '元\\n')\n",
        "elif(income >= 1000000):\n",
        "      print('付稅金額',income * 0.21,end = '元\\n')\n",
        "elif(income >= 600000):\n",
        "      print('付稅金額',income * 0.13,end = '元\\n')\n",
        "elif(income >= 300000):\n",
        "      print('付稅金額',income * 0.06,end = '元\\n')\n",
        "else:\n",
        "    print('付稅金額',income * 0, end = '元\\n')"
      ],
      "metadata": {
        "colab": {
          "base_uri": "https://localhost:8080/"
        },
        "id": "V846_g6fx-Bw",
        "outputId": "aa5e5de2-8a77-491d-c32d-f47f1e8fa910"
      },
      "execution_count": 11,
      "outputs": [
        {
          "output_type": "stream",
          "name": "stdout",
          "text": [
            "請輸入購物金額：100000\n",
            "付稅金額 0元\n",
            "請輸入購物金額：2000000\n",
            "付稅金額 600000.0元\n"
          ]
        }
      ]
    },
    {
      "cell_type": "code",
      "source": [
        ""
      ],
      "metadata": {
        "id": "hQ4ajSJU4HU_"
      },
      "execution_count": null,
      "outputs": []
    }
  ]
}